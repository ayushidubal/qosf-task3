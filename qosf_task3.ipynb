{
 "cells": [
  {
   "cell_type": "markdown",
   "metadata": {},
   "source": [
    "# Task 3\n",
    "\n",
    "The question given was:\n",
    "\n",
    "Please write a simple compiler – program, which translates one quantum circuit into another, using a restricted set of gates.\n",
    "\n",
    "You need to consider just the basic gates for the input circuit, such as (I, H, X, Y, Z, RX, RY, RZ, CNOT, CZ).\n",
    "\n",
    "The output circuit should consist only from the following gates: RX, RZ, CZ. In other words, each gate in the original circuit must be replaced by an equivalent combination of gates coming from the restricted set (RX, RZ, CZ) only.\n",
    "\n",
    "For example, a Hadamard gate after compilation looks like this:\n",
    "\n",
    "RZ(pi/2)\n",
    "RX(pi/2)\n",
    "RZ(pi/2)\n",
    "\n",
    "Analyze what’s the overhead of the compiled program compared to the original one and propose how to improve it. What we mean by overhead is the following: by replacing all the initial gates with the restricted set of gates given in the problem, you will see that the resulting circuit is much more involved than the original one. This is what we called the overhead, and you may think about how to treat this problem, i.e. you could try to simplify as much as possible the resulting circuit.\n",
    "\n",
    "***\n",
    "\n",
    "I interpreted this question as essentially implementing a transpiler, with a different set of basis gates. My final output was a lot more efficient than the transpiler in terms of overhead generated.\n",
    "I approached this question by expressing the given gates in terms of rx, rz and cz.\n",
    "After that, I parsed the input circuit and built a new circuit which replaced each gate in the input circuit with its transformation in our new basis and returned the new ciruit and the overhead generated.\n",
    "\n",
    "The question taught me a lot about how optimization is performed in qiskit. \n",
    "\n",
    "This is how I think my code can be improved:\n",
    "- check for unitaries and reduce the number of gates\n",
    "- possible reordering and reduction by finding unitaries\n",
    "\n",
    "In my opinion, the transpiler gives a more expensive circuit as it has been coded for a much more general case, unlike my code, which has been hardcoded for a few select input gates."
   ]
  },
  {
   "cell_type": "code",
   "execution_count": 96,
   "metadata": {},
   "outputs": [],
   "source": [
    "#importing required libraries\n",
    "\n",
    "from qiskit import QuantumCircuit, Aer\n",
    "from qiskit.compiler import transpile\n",
    "from qiskit.visualization import *\n",
    "\n",
    "import math\n",
    "from math import pi"
   ]
  },
  {
   "cell_type": "code",
   "execution_count": 97,
   "metadata": {},
   "outputs": [],
   "source": [
    "#each of these functions replaces the given gate with a combination of rx, rz and cz, and then returns the overhead increase\n",
    "\n",
    "def convertid(qc,i):\n",
    "    return 0\n",
    "\n",
    "def converth(qc,i):\n",
    "    qc.rz(0.5*pi,i)\n",
    "    qc.rx(0.5*pi,i)\n",
    "    qc.rz(0.5*pi,i)\n",
    "    return 2\n",
    "\n",
    "def convertx(qc,i):\n",
    "    qc.rx(pi,i)\n",
    "    return 0\n",
    "\n",
    "def converty(qc,i):\n",
    "    qc.rx(pi,i)\n",
    "    qc.rz(pi,i)\n",
    "    return 1\n",
    "\n",
    "def convertz(qc,i):\n",
    "    qc.rz(pi,i)\n",
    "    return 0\n",
    "    \n",
    "def convertrx(qc,i,theta):\n",
    "    qc.rx(theta,i)\n",
    "    return 0\n",
    "\n",
    "def convertry(qc,i,theta):\n",
    "    qc.rz(0.5*pi,i)\n",
    "    qc.rx(theta,i)\n",
    "    qc.rz((-0.5)*pi,i)\n",
    "    return 2\n",
    "\n",
    "def convertrz(qc,i,theta):\n",
    "    qc.rz(theta,i)\n",
    "    return 0\n",
    "\n",
    "def convertcz(qc,cq,tq):\n",
    "    qc.cz(cq,tq)\n",
    "    return 0"
   ]
  },
  {
   "cell_type": "code",
   "execution_count": 98,
   "metadata": {},
   "outputs": [],
   "source": [
    "#replaces each gate in the input circuit by the transformation and returns the new circuit and the overhead generated\n",
    "\n",
    "def transform(qc_ip, n):\n",
    "    \n",
    "    overhead = 0\n",
    "    \n",
    "    qc_op = QuantumCircuit(n)\n",
    "    \n",
    "    for i in qc_ip.data:\n",
    "        if i[0].name == 'id':\n",
    "            overhead += convertid(qc_op, i[1][0].index)\n",
    "        \n",
    "        elif i[0].name == 'h':\n",
    "            overhead += converth(qc_op, i[1][0].index)\n",
    "        \n",
    "        elif i[0].name == 'x':\n",
    "            overhead += convertx(qc_op, i[1][0].index)\n",
    "        \n",
    "        elif i[0].name == 'y':\n",
    "            overhead += converty(qc_op, i[1][0].index)\n",
    "            \n",
    "        elif i[0].name == 'z':\n",
    "            overhead += convertz(qc_op, i[1][0].index)\n",
    "        \n",
    "        elif i[0].name == 'rx':\n",
    "            overhead += convertrx(qc_op, i[1][0].index, i[0].params[0])\n",
    "            \n",
    "        elif i[0].name == 'ry':\n",
    "            overhead += convertry(qc_op, i[1][0].index, i[0].params[0])\n",
    "                \n",
    "        elif i[0].name == 'rz':\n",
    "            overhead += convertrz(qc_op, i[1][0].index, i[0].params[0])    \n",
    "            \n",
    "        elif i[0].name == 'cz':\n",
    "            overhead += convertcz(qc_op, i[1][0].index, i[1][1].index)\n",
    "        \n",
    "        else:\n",
    "            print(\"Gate cannot be processed\")\n",
    "            return\n",
    "        \n",
    "    return (qc_op, overhead)"
   ]
  },
  {
   "cell_type": "code",
   "execution_count": 111,
   "metadata": {},
   "outputs": [
    {
     "name": "stdout",
     "output_type": "stream",
     "text": [
      "This is the original circuit:\n",
      "        ┌───┐       \n",
      "q_0: ───┤ H ├─────■─\n",
      "        ├───┤     │ \n",
      "q_1: ───┤ X ├─────■─\n",
      "     ┌──┴───┴───┐   \n",
      "q_2: ┤ RY(pi/3) ├───\n",
      "     └──────────┘   \n"
     ]
    }
   ],
   "source": [
    "#testing for a specific case\n",
    "\n",
    "qc = QuantumCircuit(3)\n",
    "qc.h(0)\n",
    "qc.ry(pi/3.0,2)\n",
    "qc.x(1)\n",
    "qc.cz(0,1)\n",
    "\n",
    "print(\"This is the original circuit:\")\n",
    "print(qc)"
   ]
  },
  {
   "cell_type": "code",
   "execution_count": 112,
   "metadata": {},
   "outputs": [
    {
     "name": "stdout",
     "output_type": "stream",
     "text": [
      "This is the new circuit:\n",
      "     ┌──────────┐┌──────────┐ ┌──────────┐   \n",
      "q_0: ┤ RZ(pi/2) ├┤ RX(pi/2) ├─┤ RZ(pi/2) ├─■─\n",
      "     └┬────────┬┘└──────────┘ └──────────┘ │ \n",
      "q_1: ─┤ RX(pi) ├───────────────────────────■─\n",
      "     ┌┴────────┴┐┌──────────┐┌───────────┐   \n",
      "q_2: ┤ RZ(pi/2) ├┤ RX(pi/3) ├┤ RZ(-pi/2) ├───\n",
      "     └──────────┘└──────────┘└───────────┘   \n",
      "q_3: ────────────────────────────────────────\n",
      "                                             \n",
      "Overhead : 4\n"
     ]
    }
   ],
   "source": [
    "qc_new, overhead = transform(qc, 4)\n",
    "\n",
    "print(\"This is the new circuit:\")\n",
    "print(qc_new)\n",
    "\n",
    "print(\"Overhead :\", overhead)"
   ]
  },
  {
   "cell_type": "code",
   "execution_count": 117,
   "metadata": {},
   "outputs": [
    {
     "name": "stdout",
     "output_type": "stream",
     "text": [
      "This is the transpiled circuit:\n",
      "     ┌────────┐┌──────────┐┌───────────┐┌──────────┐┌─────────┐   \n",
      "q_0: ┤ RZ(pi) ├┤ RX(pi/2) ├┤ RZ(3pi/2) ├┤ RX(pi/2) ├┤ RZ(3pi) ├─■─\n",
      "     ├────────┤├──────────┤└┬─────────┬┘├──────────┤├─────────┤ │ \n",
      "q_1: ┤ RZ(pi) ├┤ RX(pi/2) ├─┤ RZ(2pi) ├─┤ RX(pi/2) ├┤ RZ(3pi) ├─■─\n",
      "     ├───────┬┘├──────────┤┌┴─────────┴┐├──────────┤├─────────┤   \n",
      "q_2: ┤ RZ(0) ├─┤ RX(pi/2) ├┤ RZ(4pi/3) ├┤ RX(pi/2) ├┤ RZ(3pi) ├───\n",
      "     └───────┘ └──────────┘└───────────┘└──────────┘└─────────┘   \n"
     ]
    }
   ],
   "source": [
    "qc_transpiled = transpile(qc, basis_gates = ['rx', 'rz', 'cz'])\n",
    "print(\"This is the transpiled circuit:\")\n",
    "print(qc_transpiled)"
   ]
  }
 ],
 "metadata": {
  "kernelspec": {
   "display_name": "Python 3",
   "language": "python",
   "name": "python3"
  },
  "language_info": {
   "codemirror_mode": {
    "name": "ipython",
    "version": 3
   },
   "file_extension": ".py",
   "mimetype": "text/x-python",
   "name": "python",
   "nbconvert_exporter": "python",
   "pygments_lexer": "ipython3",
   "version": "3.8.3"
  }
 },
 "nbformat": 4,
 "nbformat_minor": 4
}
