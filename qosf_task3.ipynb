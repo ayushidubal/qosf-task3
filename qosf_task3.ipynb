{
 "cells": [
  {
   "cell_type": "code",
   "execution_count": 73,
   "metadata": {},
   "outputs": [],
   "source": [
    "%matplotlib inline\n",
    "from qiskit import QuantumCircuit, Aer\n",
    "from qiskit.compiler import transpile\n",
    "from qiskit.visualization import *\n",
    "\n",
    "import math\n",
    "from math import pi\n"
   ]
  },
  {
   "cell_type": "code",
   "execution_count": 74,
   "metadata": {},
   "outputs": [],
   "source": [
    "#each of these functions replaces the given gate with a combination of rx, rz and cz, and then returns the overhead increase\n",
    "\n",
    "def convertid(qc,i):\n",
    "    return 0\n",
    "\n",
    "def converth(qc,i):\n",
    "    qc.rz(0.5*pi,i)\n",
    "    qc.rx(0.5*pi,i)\n",
    "    qc.rz(0.5*pi,i)\n",
    "    return 2\n",
    "\n",
    "def convertx(qc,i):\n",
    "    qc.rx(pi,i)\n",
    "    return 0\n",
    "\n",
    "def converty(qc,i):\n",
    "    qc.rx(pi,i)\n",
    "    qc.rz(pi,i)\n",
    "    return 1\n",
    "\n",
    "def convertz(qc,i):\n",
    "    qc.rz(pi,i)\n",
    "    return 0\n",
    "    \n",
    "def convertrx(qc,i,theta):\n",
    "    qc.rx(theta,i)\n",
    "    return 0\n",
    "\n",
    "def convertry(qc,i,theta):\n",
    "    qc.rz(0.5*pi,i)\n",
    "    qc.rx(theta,i)\n",
    "    qc.rz((-0.5)*pi,i)\n",
    "    return 2\n",
    "\n",
    "def convertrz(qc,i,theta):\n",
    "    qc.rz(theta,i)\n",
    "    return 0\n",
    "\n",
    "def convertcz(qc,cq,tq):\n",
    "    qc.cz(cq,tq)\n",
    "    return 0"
   ]
  },
  {
   "cell_type": "code",
   "execution_count": 75,
   "metadata": {},
   "outputs": [],
   "source": [
    "def transform(qc_ip, n):\n",
    "    \n",
    "    overhead = 0\n",
    "    \n",
    "    qc_op = QuantumCircuit(n)\n",
    "    \n",
    "    for i in qc_ip.data:\n",
    "        if i[0].name == 'id':\n",
    "            overhead += convertid(qc_op, i[1][0].index)\n",
    "        \n",
    "        elif i[0].name == 'h':\n",
    "            overhead += converth(qc_op, i[1][0].index)\n",
    "        \n",
    "        elif i[0].name == 'x':\n",
    "            overhead += convertx(qc_op, i[1][0].index)\n",
    "        \n",
    "        elif i[0].name == 'y':\n",
    "            overhead += converty(qc_op, i[1][0].index)\n",
    "            \n",
    "        elif i[0].name == 'z':\n",
    "            overhead += convertz(qc_op, i[1][0].index)\n",
    "        \n",
    "        elif i[0].name == 'rx':\n",
    "            overhead += convertrx(qc_op, i[1][0].index, i[0].params[0])\n",
    "            \n",
    "        elif i[0].name == 'ry':\n",
    "            overhead += convertry(qc_op, i[1][0].index, i[0].params[0])\n",
    "                \n",
    "        elif i[0].name == 'rz':\n",
    "            overhead += convertrz(qc_op, i[1][0].index, i[0].params[0])    \n",
    "            \n",
    "        elif i[0].name == 'cz':\n",
    "            overhead += convertcz(qc_op, i[1][0].index, i[1][1].index)\n",
    "        \n",
    "        else:\n",
    "            print(\"Gate cannot be processed\")\n",
    "            return\n",
    "        \n",
    "    return (qc_op, overhead)"
   ]
  },
  {
   "cell_type": "code",
   "execution_count": 76,
   "metadata": {},
   "outputs": [
    {
     "name": "stdout",
     "output_type": "stream",
     "text": [
      "     ┌───┐                 \n",
      "q_0: ┤ X ├─────────────────\n",
      "     ├───┤                 \n",
      "q_1: ┤ H ├─────■───────────\n",
      "     └───┘     │      ┌───┐\n",
      "q_2: ──────────■──────┤ Y ├\n",
      "     ┌───┐┌──────────┐└───┘\n",
      "q_3: ┤ Y ├┤ RY(pi/3) ├─────\n",
      "     └───┘└──────────┘     \n"
     ]
    }
   ],
   "source": [
    "qc = QuantumCircuit(4)\n",
    "qc.x(0)\n",
    "qc.h(1)\n",
    "qc.cz(1,2)\n",
    "qc.y(3)\n",
    "qc.ry(pi/3.0,3)\n",
    "qc.y(2)\n",
    "\n",
    "print(qc)"
   ]
  },
  {
   "cell_type": "code",
   "execution_count": 77,
   "metadata": {},
   "outputs": [
    {
     "name": "stdout",
     "output_type": "stream",
     "text": [
      "      ┌────────┐                                                            \n",
      "q_0: ─┤ RX(pi) ├────────────────────────────────────────────────────────────\n",
      "     ┌┴────────┴┐┌──────────┐┌──────────┐                                   \n",
      "q_1: ┤ RZ(pi/2) ├┤ RX(pi/2) ├┤ RZ(pi/2) ├─────■─────────────────────────────\n",
      "     └──────────┘└──────────┘└──────────┘     │        ┌────────┐ ┌────────┐\n",
      "q_2: ─────────────────────────────────────────■────────┤ RX(pi) ├─┤ RZ(pi) ├\n",
      "      ┌────────┐  ┌────────┐ ┌──────────┐┌──────────┐┌─┴────────┴┐└────────┘\n",
      "q_3: ─┤ RX(pi) ├──┤ RZ(pi) ├─┤ RZ(pi/2) ├┤ RX(pi/3) ├┤ RZ(-pi/2) ├──────────\n",
      "      └────────┘  └────────┘ └──────────┘└──────────┘└───────────┘          \n",
      "Overhead : 6\n"
     ]
    }
   ],
   "source": [
    "qc_new, overhead = transform(qc, 4)\n",
    "\n",
    "print(qc_new)\n",
    "print(\"Overhead :\", overhead)"
   ]
  },
  {
   "cell_type": "code",
   "execution_count": 78,
   "metadata": {},
   "outputs": [
    {
     "ename": "ImportError",
     "evalue": "The class MatplotlibDrawer needs pylatexenc. to install, run \"pip install pylatexenc\".",
     "output_type": "error",
     "traceback": [
      "\u001b[1;31m---------------------------------------------------------------------------\u001b[0m",
      "\u001b[1;31mImportError\u001b[0m                               Traceback (most recent call last)",
      "\u001b[1;32m<ipython-input-78-2d61786ff39f>\u001b[0m in \u001b[0;36m<module>\u001b[1;34m\u001b[0m\n\u001b[0;32m      1\u001b[0m \u001b[0mqc_transpiled\u001b[0m \u001b[1;33m=\u001b[0m \u001b[0mtranspile\u001b[0m\u001b[1;33m(\u001b[0m\u001b[0mqc\u001b[0m\u001b[1;33m,\u001b[0m \u001b[0mbasis_gates\u001b[0m \u001b[1;33m=\u001b[0m \u001b[1;33m[\u001b[0m\u001b[1;34m'rx'\u001b[0m\u001b[1;33m,\u001b[0m \u001b[1;34m'ry'\u001b[0m\u001b[1;33m,\u001b[0m \u001b[1;34m'cz'\u001b[0m\u001b[1;33m]\u001b[0m\u001b[1;33m)\u001b[0m\u001b[1;33m\u001b[0m\u001b[1;33m\u001b[0m\u001b[0m\n\u001b[1;32m----> 2\u001b[1;33m \u001b[0mqc_transpiled\u001b[0m\u001b[1;33m.\u001b[0m\u001b[0mdraw\u001b[0m\u001b[1;33m(\u001b[0m\u001b[1;34m'mpl'\u001b[0m\u001b[1;33m)\u001b[0m\u001b[1;33m\u001b[0m\u001b[1;33m\u001b[0m\u001b[0m\n\u001b[0m",
      "\u001b[1;32mc:\\users\\ayushi\\appdata\\local\\programs\\python\\python38\\lib\\site-packages\\qiskit\\circuit\\quantumcircuit.py\u001b[0m in \u001b[0;36mdraw\u001b[1;34m(self, output, scale, filename, style, interactive, plot_barriers, reverse_bits, justify, vertical_compression, idle_wires, with_layout, fold, ax, initial_state, cregbundle)\u001b[0m\n\u001b[0;32m   1279\u001b[0m             \u001b[0moutput\u001b[0m \u001b[1;33m=\u001b[0m \u001b[1;32mNone\u001b[0m\u001b[1;33m\u001b[0m\u001b[1;33m\u001b[0m\u001b[0m\n\u001b[0;32m   1280\u001b[0m \u001b[1;33m\u001b[0m\u001b[0m\n\u001b[1;32m-> 1281\u001b[1;33m         return circuit_drawer(self, scale=scale,\n\u001b[0m\u001b[0;32m   1282\u001b[0m                               \u001b[0mfilename\u001b[0m\u001b[1;33m=\u001b[0m\u001b[0mfilename\u001b[0m\u001b[1;33m,\u001b[0m \u001b[0mstyle\u001b[0m\u001b[1;33m=\u001b[0m\u001b[0mstyle\u001b[0m\u001b[1;33m,\u001b[0m\u001b[1;33m\u001b[0m\u001b[1;33m\u001b[0m\u001b[0m\n\u001b[0;32m   1283\u001b[0m                               \u001b[0moutput\u001b[0m\u001b[1;33m=\u001b[0m\u001b[0moutput\u001b[0m\u001b[1;33m,\u001b[0m\u001b[1;33m\u001b[0m\u001b[1;33m\u001b[0m\u001b[0m\n",
      "\u001b[1;32mc:\\users\\ayushi\\appdata\\local\\programs\\python\\python38\\lib\\site-packages\\qiskit\\visualization\\circuit_visualization.py\u001b[0m in \u001b[0;36mcircuit_drawer\u001b[1;34m(circuit, scale, filename, style, output, interactive, plot_barriers, reverse_bits, justify, vertical_compression, idle_wires, with_layout, fold, ax, initial_state, cregbundle)\u001b[0m\n\u001b[0;32m    306\u001b[0m                                       cregbundle=cregbundle)\n\u001b[0;32m    307\u001b[0m     \u001b[1;32melif\u001b[0m \u001b[0moutput\u001b[0m \u001b[1;33m==\u001b[0m \u001b[1;34m'mpl'\u001b[0m\u001b[1;33m:\u001b[0m\u001b[1;33m\u001b[0m\u001b[1;33m\u001b[0m\u001b[0m\n\u001b[1;32m--> 308\u001b[1;33m         image = _matplotlib_circuit_drawer(circuit, scale=scale,\n\u001b[0m\u001b[0;32m    309\u001b[0m                                            \u001b[0mfilename\u001b[0m\u001b[1;33m=\u001b[0m\u001b[0mfilename\u001b[0m\u001b[1;33m,\u001b[0m \u001b[0mstyle\u001b[0m\u001b[1;33m=\u001b[0m\u001b[0mstyle\u001b[0m\u001b[1;33m,\u001b[0m\u001b[1;33m\u001b[0m\u001b[1;33m\u001b[0m\u001b[0m\n\u001b[0;32m    310\u001b[0m                                            \u001b[0mplot_barriers\u001b[0m\u001b[1;33m=\u001b[0m\u001b[0mplot_barriers\u001b[0m\u001b[1;33m,\u001b[0m\u001b[1;33m\u001b[0m\u001b[1;33m\u001b[0m\u001b[0m\n",
      "\u001b[1;32mc:\\users\\ayushi\\appdata\\local\\programs\\python\\python38\\lib\\site-packages\\qiskit\\visualization\\circuit_visualization.py\u001b[0m in \u001b[0;36m_matplotlib_circuit_drawer\u001b[1;34m(circuit, scale, filename, style, plot_barriers, reverse_bits, justify, idle_wires, with_layout, fold, ax, initial_state, cregbundle)\u001b[0m\n\u001b[0;32m    668\u001b[0m \u001b[1;33m\u001b[0m\u001b[0m\n\u001b[0;32m    669\u001b[0m     \u001b[0mglobal_phase\u001b[0m \u001b[1;33m=\u001b[0m \u001b[0mcircuit\u001b[0m\u001b[1;33m.\u001b[0m\u001b[0mglobal_phase\u001b[0m \u001b[1;32mif\u001b[0m \u001b[0mhasattr\u001b[0m\u001b[1;33m(\u001b[0m\u001b[0mcircuit\u001b[0m\u001b[1;33m,\u001b[0m \u001b[1;34m'global_phase'\u001b[0m\u001b[1;33m)\u001b[0m \u001b[1;32melse\u001b[0m \u001b[1;32mNone\u001b[0m\u001b[1;33m\u001b[0m\u001b[1;33m\u001b[0m\u001b[0m\n\u001b[1;32m--> 670\u001b[1;33m     qcd = _matplotlib.MatplotlibDrawer(qregs, cregs, ops, scale=scale, style=style,\n\u001b[0m\u001b[0;32m    671\u001b[0m                                        \u001b[0mplot_barriers\u001b[0m\u001b[1;33m=\u001b[0m\u001b[0mplot_barriers\u001b[0m\u001b[1;33m,\u001b[0m\u001b[1;33m\u001b[0m\u001b[1;33m\u001b[0m\u001b[0m\n\u001b[0;32m    672\u001b[0m                                        \u001b[0mreverse_bits\u001b[0m\u001b[1;33m=\u001b[0m\u001b[0mreverse_bits\u001b[0m\u001b[1;33m,\u001b[0m \u001b[0mlayout\u001b[0m\u001b[1;33m=\u001b[0m\u001b[0mlayout\u001b[0m\u001b[1;33m,\u001b[0m\u001b[1;33m\u001b[0m\u001b[1;33m\u001b[0m\u001b[0m\n",
      "\u001b[1;32mc:\\users\\ayushi\\appdata\\local\\programs\\python\\python38\\lib\\site-packages\\qiskit\\visualization\\matplotlib.py\u001b[0m in \u001b[0;36m__init__\u001b[1;34m(self, qregs, cregs, ops, scale, style, plot_barriers, reverse_bits, layout, fold, ax, initial_state, cregbundle, global_phase)\u001b[0m\n\u001b[0;32m    124\u001b[0m \u001b[1;33m\u001b[0m\u001b[0m\n\u001b[0;32m    125\u001b[0m         \u001b[1;32mif\u001b[0m \u001b[1;32mnot\u001b[0m \u001b[0mHAS_PYLATEX\u001b[0m\u001b[1;33m:\u001b[0m\u001b[1;33m\u001b[0m\u001b[1;33m\u001b[0m\u001b[0m\n\u001b[1;32m--> 126\u001b[1;33m             raise ImportError('The class MatplotlibDrawer needs pylatexenc. '\n\u001b[0m\u001b[0;32m    127\u001b[0m                               'to install, run \"pip install pylatexenc\".')\n\u001b[0;32m    128\u001b[0m \u001b[1;33m\u001b[0m\u001b[0m\n",
      "\u001b[1;31mImportError\u001b[0m: The class MatplotlibDrawer needs pylatexenc. to install, run \"pip install pylatexenc\"."
     ]
    }
   ],
   "source": [
    "\n"
   ]
  }
 ],
 "metadata": {
  "kernelspec": {
   "display_name": "Python 3",
   "language": "python",
   "name": "python3"
  },
  "language_info": {
   "codemirror_mode": {
    "name": "ipython",
    "version": 3
   },
   "file_extension": ".py",
   "mimetype": "text/x-python",
   "name": "python",
   "nbconvert_exporter": "python",
   "pygments_lexer": "ipython3",
   "version": "3.8.3"
  }
 },
 "nbformat": 4,
 "nbformat_minor": 4
}
